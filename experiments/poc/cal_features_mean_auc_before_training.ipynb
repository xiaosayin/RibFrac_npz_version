{
 "cells": [
  {
   "cell_type": "markdown",
   "metadata": {},
   "source": [
    "# This notebook shows how to calculate the mean AUC on the features from the final layer. The pretrained ACS and random ACS examples are presented. Other models are alike."
   ]
  },
  {
   "cell_type": "code",
   "execution_count": 22,
   "metadata": {},
   "outputs": [
    {
     "name": "stdout",
     "output_type": "stream",
     "text": [
      "The autoreload extension is already loaded. To reload it, use:\n",
      "  %reload_ext autoreload\n"
     ]
    }
   ],
   "source": [
    "import _init_paths\n",
    "import matplotlib.pyplot as plt\n",
    "import numpy as np\n",
    "from tqdm import tqdm\n",
    "from sklearn.metrics import roc_auc_score\n",
    "\n",
    "import torch\n",
    "from torch.utils.data import DataLoader\n",
    "import torch.nn.functional as F\n",
    "\n",
    "%load_ext autoreload\n",
    "%autoreload 2\n",
    "%matplotlib inline"
   ]
  },
  {
   "cell_type": "code",
   "execution_count": 2,
   "metadata": {},
   "outputs": [
    {
     "name": "stdout",
     "output_type": "stream",
     "text": [
      "The ``converters`` are currently experimental. It may not support operations including (but not limited to) Functions in ``torch.nn.functional`` that involved data dimension\n"
     ]
    }
   ],
   "source": [
    "from unet import UNet as oriUNet\n",
    "from acsconv.converters import ACSConverter, Conv3dConverter, Conv2_5dConverter\n",
    "from poc_dataset import BaseDatasetVoxel\n",
    "from mylib.utils import plot_multi_shapes, plot_multi_voxels"
   ]
  },
  {
   "cell_type": "code",
   "execution_count": 12,
   "metadata": {},
   "outputs": [],
   "source": [
    "from poc_config import POCVoxelConfig as cfg\n",
    "from poc_config import POCVoxelEnv as env"
   ]
  },
  {
   "cell_type": "code",
   "execution_count": 4,
   "metadata": {},
   "outputs": [],
   "source": [
    "class UNet(oriUNet):\n",
    "    def __init__(self, num_classes):\n",
    "        super().__init__(num_classes)\n",
    "\n",
    "    def get_feature(self, x):\n",
    "        x = self.enc1(x)\n",
    "        x1 = x.clone()\n",
    "        x = self.enc2(x)\n",
    "        x = self.dec1(torch.cat([x1, F.interpolate(x, scale_factor=2)], 1))\n",
    "        return x"
   ]
  },
  {
   "cell_type": "code",
   "execution_count": 13,
   "metadata": {},
   "outputs": [],
   "source": [
    "\n",
    "train_data = env.data_train\n",
    "test_data = env.data_test\n",
    "shape_cp = env.shape_checkpoint\n",
    "\n",
    "train_set = BaseDatasetVoxel(train_data, cfg.train_samples)\n",
    "valid_set = None\n",
    "test_set = BaseDatasetVoxel(test_data, 200)\n",
    "\n",
    "\n",
    "train_loader = DataLoader(train_set, batch_size=cfg.train_batch_size, shuffle=True,\n",
    "                            pin_memory=(torch.cuda.is_available()), num_workers=cfg.num_workers)\n",
    "test_loader = DataLoader(test_set, batch_size=cfg.test_batch_size, shuffle=False,\n",
    "                            pin_memory=(torch.cuda.is_available()), num_workers=cfg.num_workers)\n"
   ]
  },
  {
   "cell_type": "code",
   "execution_count": 14,
   "metadata": {},
   "outputs": [
    {
     "name": "stderr",
     "output_type": "stream",
     "text": [
      "\n",
      "  0%|          | 0/10 [00:00<?, ?it/s]\u001b[A"
     ]
    },
    {
     "name": "stdout",
     "output_type": "stream",
     "text": [
      "load shape pretrained weights\n",
      " _IncompatibleKeys(missing_keys=['final.weight', 'final.bias'], unexpected_keys=[])\n"
     ]
    },
    {
     "name": "stderr",
     "output_type": "stream",
     "text": [
      "/home/hxy/anaconda3/lib/python3.7/site-packages/torch/nn/functional.py:2479: UserWarning: Default upsampling behavior when mode=trilinear is changed to align_corners=False since 0.4.0. Please specify align_corners=True if the old behavior is desired. See the documentation of nn.Upsample for details.\n",
      "  \"See the documentation of nn.Upsample for details.\".format(mode))\n",
      "\n",
      " 10%|█         | 1/10 [00:03<00:27,  3.00s/it]\u001b[A\n",
      " 20%|██        | 2/10 [00:03<00:17,  2.24s/it]\u001b[A\n",
      " 30%|███       | 3/10 [00:03<00:11,  1.70s/it]\u001b[A\n",
      " 40%|████      | 4/10 [00:04<00:07,  1.32s/it]\u001b[A\n",
      " 50%|█████     | 5/10 [00:04<00:05,  1.05s/it]\u001b[A\n",
      " 60%|██████    | 6/10 [00:05<00:03,  1.16it/s]\u001b[A\n",
      " 70%|███████   | 7/10 [00:05<00:02,  1.37it/s]\u001b[A\n",
      " 80%|████████  | 8/10 [00:06<00:01,  1.56it/s]\u001b[A\n",
      " 90%|█████████ | 9/10 [00:06<00:00,  1.75it/s]\u001b[A\n",
      "100%|██████████| 10/10 [00:06<00:00,  1.92it/s]\u001b[A"
     ]
    }
   ],
   "source": [
    "all_features = []\n",
    "gts = []\n",
    "model = UNet(6)\n",
    "model = ACSConverter(model)\n",
    "shape_cp = torch.load(shape_cp)\n",
    "shape_cp.popitem()\n",
    "shape_cp.popitem()\n",
    "incompatible_keys = model.load_state_dict(shape_cp, strict=False)\n",
    "print('load shape pretrained weights\\n', incompatible_keys)\n",
    "model.cuda()\n",
    "model.eval()\n",
    "\n",
    "with torch.no_grad():\n",
    "    for x, y in tqdm(test_loader):\n",
    "        x = x.cuda()\n",
    "        features = F.interpolate(model.get_feature(x), scale_factor=2, mode='trilinear')\n",
    "#         random_features = model_random.get_feature(x)\n",
    "        all_features.append(features.cpu())\n",
    "#         all_random_features.append(random_features.cpu())\n",
    "        del x, features#, random_features\n",
    "        gts.append(y)"
   ]
  },
  {
   "cell_type": "code",
   "execution_count": 15,
   "metadata": {},
   "outputs": [],
   "source": [
    "all_features = torch.cat(all_features)"
   ]
  },
  {
   "cell_type": "code",
   "execution_count": 16,
   "metadata": {},
   "outputs": [
    {
     "data": {
      "text/plain": [
       "torch.Size([200, 32, 48, 48, 48])"
      ]
     },
     "execution_count": 16,
     "metadata": {},
     "output_type": "execute_result"
    }
   ],
   "source": [
    "all_features.shape"
   ]
  },
  {
   "cell_type": "code",
   "execution_count": 17,
   "metadata": {},
   "outputs": [],
   "source": [
    "gts = torch.cat(gts)"
   ]
  },
  {
   "cell_type": "code",
   "execution_count": 18,
   "metadata": {},
   "outputs": [],
   "source": [
    "gts = gts[:,:-1].sum(1)"
   ]
  },
  {
   "cell_type": "code",
   "execution_count": 19,
   "metadata": {},
   "outputs": [
    {
     "data": {
      "text/plain": [
       "torch.Size([200, 48, 48, 48])"
      ]
     },
     "execution_count": 19,
     "metadata": {},
     "output_type": "execute_result"
    }
   ],
   "source": [
    "gts.shape"
   ]
  },
  {
   "cell_type": "code",
   "execution_count": 23,
   "metadata": {
    "scrolled": false
   },
   "outputs": [
    {
     "name": "stdout",
     "output_type": "stream",
     "text": [
      "0 0.5403825475651183\n",
      "1 0.1285811038302523\n",
      "2 0.7774155076871507\n",
      "3 0.9532965642078928\n",
      "4 0.9406143030116719\n",
      "5 0.8537926228660593\n",
      "6 0.1840238044091505\n",
      "7 0.9724706645354475\n",
      "8 0.9452185636611776\n",
      "9 0.14924687185902605\n",
      "10 0.045249287471890255\n",
      "11 0.8605091591883531\n",
      "12 0.03457575954091149\n",
      "13 0.9500586527417155\n",
      "14 0.9138537897772643\n",
      "15 0.07844444744991355\n",
      "16 0.047762273782486236\n",
      "17 0.9855520298148932\n",
      "18 0.10664903688736317\n",
      "19 0.786775742808291\n",
      "20 0.9704054550941865\n",
      "21 0.24990163005356864\n",
      "22 0.7684907248333583\n",
      "23 0.9508337837017716\n",
      "24 0.7480518110381925\n",
      "25 0.6239492561432597\n",
      "26 0.9293165602636778\n",
      "27 0.9657178439768481\n",
      "28 0.9260579480464312\n",
      "29 0.9868196758165062\n",
      "30 0.09795655645225952\n",
      "31 0.9285995335004847\n",
      "0.6375179222505178\n"
     ]
    }
   ],
   "source": [
    "pretrained_auc = np.zeros(32)\n",
    "for i in range(32):\n",
    "    pretrained_auc[i] = roc_auc_score(gts.flatten(), all_features[:,i].flatten())\n",
    "    print(i, pretrained_auc[i])\n",
    "print(pretrained_auc.mean())"
   ]
  },
  {
   "cell_type": "code",
   "execution_count": null,
   "metadata": {},
   "outputs": [],
   "source": []
  },
  {
   "cell_type": "markdown",
   "metadata": {},
   "source": [
    "# AUC of random ACS "
   ]
  },
  {
   "cell_type": "code",
   "execution_count": 34,
   "metadata": {},
   "outputs": [
    {
     "name": "stderr",
     "output_type": "stream",
     "text": [
      "\n",
      "  0%|          | 0/10 [00:00<?, ?it/s]\u001b[A/home/hxy/anaconda3/lib/python3.7/site-packages/torch/nn/functional.py:2479: UserWarning: Default upsampling behavior when mode=trilinear is changed to align_corners=False since 0.4.0. Please specify align_corners=True if the old behavior is desired. See the documentation of nn.Upsample for details.\n",
      "  \"See the documentation of nn.Upsample for details.\".format(mode))\n",
      "\n",
      " 10%|█         | 1/10 [00:00<00:07,  1.18it/s]\u001b[A\n",
      " 20%|██        | 2/10 [00:01<00:05,  1.38it/s]\u001b[A\n",
      " 30%|███       | 3/10 [00:01<00:04,  1.57it/s]\u001b[A\n",
      " 40%|████      | 4/10 [00:02<00:03,  1.75it/s]\u001b[A\n",
      " 50%|█████     | 5/10 [00:02<00:02,  1.92it/s]\u001b[A\n",
      " 60%|██████    | 6/10 [00:02<00:01,  2.06it/s]\u001b[A\n",
      " 70%|███████   | 7/10 [00:03<00:01,  2.17it/s]\u001b[A\n",
      " 80%|████████  | 8/10 [00:03<00:00,  2.24it/s]\u001b[A\n",
      " 90%|█████████ | 9/10 [00:04<00:00,  2.29it/s]\u001b[A\n",
      "100%|██████████| 10/10 [00:04<00:00,  2.31it/s]\u001b[A"
     ]
    }
   ],
   "source": [
    "all_random_features = []\n",
    "gts = []\n",
    "model_random = UNet(6)\n",
    "model_random = ACSConverter(model_random)\n",
    "model_random.cuda()\n",
    "model_random.eval()\n",
    "with torch.no_grad():\n",
    "    for x, y in tqdm(test_loader):\n",
    "        x = x.cuda()\n",
    "#         features = F.interpolate(model.get_feature(x), scale_factor=2, mode='trilinear')\n",
    "        random_features = F.interpolate(model_random.get_feature(x), scale_factor=2, mode='trilinear')\n",
    "#         all_features.append(features.cpu())\n",
    "        all_random_features.append(random_features.cpu())\n",
    "        del x, random_features#, random_features\n",
    "        gts.append(y)"
   ]
  },
  {
   "cell_type": "code",
   "execution_count": 35,
   "metadata": {},
   "outputs": [],
   "source": [
    "all_random_features = torch.cat(all_random_features)"
   ]
  },
  {
   "cell_type": "code",
   "execution_count": 36,
   "metadata": {},
   "outputs": [
    {
     "data": {
      "text/plain": [
       "torch.Size([200, 32, 48, 48, 48])"
      ]
     },
     "execution_count": 36,
     "metadata": {},
     "output_type": "execute_result"
    }
   ],
   "source": [
    "all_random_features.shape"
   ]
  },
  {
   "cell_type": "code",
   "execution_count": 40,
   "metadata": {},
   "outputs": [],
   "source": [
    "gts = torch.cat(gts)"
   ]
  },
  {
   "cell_type": "code",
   "execution_count": 41,
   "metadata": {},
   "outputs": [],
   "source": [
    "gts = gts[:,:-1].sum(1)"
   ]
  },
  {
   "cell_type": "code",
   "execution_count": 42,
   "metadata": {},
   "outputs": [
    {
     "data": {
      "text/plain": [
       "torch.Size([200, 48, 48, 48])"
      ]
     },
     "execution_count": 42,
     "metadata": {},
     "output_type": "execute_result"
    }
   ],
   "source": [
    "gts.shape"
   ]
  },
  {
   "cell_type": "code",
   "execution_count": 43,
   "metadata": {
    "scrolled": false
   },
   "outputs": [
    {
     "name": "stdout",
     "output_type": "stream",
     "text": [
      "0 0.12779435424731492\n",
      "1 0.7405222960281823\n",
      "2 0.9621561098148652\n",
      "3 0.8597092005306003\n",
      "4 0.9715571771707239\n",
      "5 0.45470094912905445\n",
      "6 0.12078017754523629\n",
      "7 0.9834419200252179\n",
      "8 0.7180263446420385\n",
      "9 0.4920825008928109\n",
      "10 0.5137663942580295\n",
      "11 0.5\n",
      "12 0.5084743238434396\n",
      "13 0.24642037256899282\n",
      "14 0.4605021639084199\n",
      "15 0.9605542469310315\n",
      "16 0.5128062201767885\n",
      "17 0.49568599826194637\n",
      "18 0.5993036462237372\n",
      "19 0.5000125773477443\n",
      "20 0.8525683099644852\n",
      "21 0.9271359466527214\n",
      "22 0.844142721293847\n",
      "23 0.21938087994973143\n",
      "24 0.797958647061781\n",
      "25 0.8824684869152049\n",
      "26 0.49749708426297345\n",
      "27 0.974609424158798\n",
      "28 0.8037984239910225\n",
      "29 0.49064633101417293\n",
      "30 0.5\n",
      "31 0.7282205513364588\n",
      "0.6327101181296053\n"
     ]
    }
   ],
   "source": [
    "random_auc = np.zeros(32)\n",
    "for i in range(32):\n",
    "    random_auc[i] = roc_auc_score(gts.flatten(), all_random_features[:,i].flatten())\n",
    "    print(i, random_auc[i])\n",
    "print(random_auc.mean())"
   ]
  },
  {
   "cell_type": "markdown",
   "metadata": {},
   "source": [
    "# Visualization"
   ]
  },
  {
   "cell_type": "code",
   "execution_count": 28,
   "metadata": {},
   "outputs": [
    {
     "data": {
      "text/plain": [
       "<matplotlib.image.AxesImage at 0x7fc7827765c0>"
      ]
     },
     "execution_count": 28,
     "metadata": {},
     "output_type": "execute_result"
    },
    {
     "data": {
      "image/png": "[encoded data removed]",
      "text/plain": [
       "<Figure size 432x288 with 1 Axes>"
      ]
     },
     "metadata": {
      "needs_background": "light"
     },
     "output_type": "display_data"
    }
   ],
   "source": [
    "plt.imshow(gts[0,30])"
   ]
  },
  {
   "cell_type": "code",
   "execution_count": 48,
   "metadata": {},
   "outputs": [
    {
     "data": {
      "text/plain": [
       "<matplotlib.image.AxesImage at 0x7fc7824108d0>"
      ]
     },
     "execution_count": 48,
     "metadata": {},
     "output_type": "execute_result"
    },
    {
     "data": {
      "image/png": "[encoded data removed]",
      "text/plain": [
       "<Figure size 432x288 with 1 Axes>"
      ]
     },
     "metadata": {
      "needs_background": "light"
     },
     "output_type": "display_data"
    }
   ],
   "source": [
    "plt.imshow(all_random_features[0, 29 ,30])"
   ]
  },
  {
   "cell_type": "code",
   "execution_count": 53,
   "metadata": {},
   "outputs": [
    {
     "data": {
      "text/plain": [
       "<matplotlib.image.AxesImage at 0x7fc7822b9630>"
      ]
     },
     "execution_count": 53,
     "metadata": {},
     "output_type": "execute_result"
    },
    {
     "data": {
      "image/png": "[encoded data removed]",
      "text/plain": [
       "<Figure size 432x288 with 1 Axes>"
      ]
     },
     "metadata": {
      "needs_background": "light"
     },
     "output_type": "display_data"
    }
   ],
   "source": [
    "plt.imshow(all_features[0, 29 ,30])"
   ]
  },
  {
   "cell_type": "markdown",
   "metadata": {},
   "source": [
    "# mean AUC of pretrained ACS and random ACS"
   ]
  },
  {
   "cell_type": "code",
   "execution_count": 24,
   "metadata": {},
   "outputs": [
    {
     "data": {
      "text/plain": [
       "0.8798684990169666"
      ]
     },
     "execution_count": 24,
     "metadata": {},
     "output_type": "execute_result"
    }
   ],
   "source": [
    "np.maximum(pretrained_auc, 1-pretrained_auc).mean()"
   ]
  },
  {
   "cell_type": "code",
   "execution_count": 44,
   "metadata": {
    "scrolled": false
   },
   "outputs": [
    {
     "data": {
      "text/plain": [
       "0.7198669423933144"
      ]
     },
     "execution_count": 44,
     "metadata": {},
     "output_type": "execute_result"
    }
   ],
   "source": [
    "# This value could vary due to different randomlization seeds.\n",
    "np.maximum(random_auc, 1-random_auc).mean()"
   ]
  }
 ],
 "metadata": {
  "kernelspec": {
   "display_name": "Python 3",
   "language": "python",
   "name": "python3"
  },
  "language_info": {
   "codemirror_mode": {
    "name": "ipython",
    "version": 3
   },
   "file_extension": ".py",
   "mimetype": "text/x-python",
   "name": "python",
   "nbconvert_exporter": "python",
   "pygments_lexer": "ipython3",
   "version": "3.7.3"
  }
 },
 "nbformat": 4,
 "nbformat_minor": 2
}
